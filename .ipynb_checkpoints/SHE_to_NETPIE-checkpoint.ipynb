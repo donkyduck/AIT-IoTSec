{
 "cells": [
  {
   "cell_type": "markdown",
   "id": "5ff01533",
   "metadata": {},
   "source": [
    "## Publish/Subscribe SHE msg to/from NETPIE"
   ]
  },
  {
   "cell_type": "code",
   "execution_count": 1,
   "id": "4a676a1f",
   "metadata": {},
   "outputs": [],
   "source": [
    "import random \n",
    "import paho.mqtt.client as mqtt\n",
    "from paho.mqtt import client as mqtt_client\n",
    "import json\n",
    "import time\n",
    "import requests"
   ]
  },
  {
   "cell_type": "markdown",
   "id": "7d111130",
   "metadata": {},
   "source": [
    "SHE Function"
   ]
  },
  {
   "cell_type": "code",
   "execution_count": 2,
   "id": "7ad73946",
   "metadata": {},
   "outputs": [],
   "source": [
    "def keygen(noise, modulus):\n",
    "    a_key = random.getrandbits((noise ** 2))\n",
    " \n",
    "    while ((a_key % 2) != 1) and (a_key < (modulus ** (noise ** 2) - 1)):\n",
    "        a_key = a_key + 1\n",
    " \n",
    "    return a_key\n",
    "\n",
    "def encrypt(noise, a_key, a_bit, modulus):\n",
    "    a_mask          = random.getrandbits(noise)\n",
    "    a_bit_remainder = a_bit % modulus\n",
    " \n",
    "    while ((a_mask % modulus) != a_bit_remainder):\n",
    "        a_mask = random.getrandbits(noise)\n",
    " \n",
    "    return a_mask + (a_key * random.getrandbits(noise ** 5))\n",
    "\n",
    "def decrypt(a_key, a_bit, modulus):\n",
    "    return (a_bit % a_key) % modulus\n",
    "\n",
    "def run_encSHE(key,noise,modulus,m1,m2):\n",
    "    c1 = encrypt(noise, key, m1, modulus)\n",
    "    c2 = encrypt(noise, key, m2, modulus)\n",
    "    print(\"Ciphertext : \")\n",
    "    print('c1 =',c1)\n",
    "    print('c2 =', c2)\n",
    "    return c1,c2\n",
    "\n",
    "def run_decSHE(key,modulus,ciphertext_result):\n",
    "    result = decrypt(key, ciphertext_result, modulus)\n",
    "    print('Result = ',result)\n",
    "    return result\n",
    "\n",
    "def run_SHE(m1,m2,noise,modulus):\n",
    "    key = keygen(noise, modulus)\n",
    "    print(\"key:\",key)\n",
    "    c1 = encrypt(noise, key, m1, modulus)\n",
    "    c2 = encrypt(noise, key, m2, modulus)\n",
    "    print(f\"ciphertext c1: {c1} \\n ciphertext c2: {c2}\")\n",
    "    return c1, c2, key"
   ]
  },
  {
   "cell_type": "markdown",
   "id": "03e18ba1",
   "metadata": {},
   "source": [
    "## NETPIE Functions"
   ]
  },
  {
   "cell_type": "code",
   "execution_count": 3,
   "id": "22ad4d29",
   "metadata": {},
   "outputs": [],
   "source": [
    "def connect_mqtt():\n",
    "    def on_connect(client, userdata, flags, rc):\n",
    "        if rc == 0:\n",
    "            print(\"Connected to NETPIE MQTT Broker!\")\n",
    "        else:\n",
    "            print(\"Failed to connect, return code %d\\n\", rc)\n",
    "    # Set Connecting Client ID\n",
    "    client = mqtt_client.Client(client_id)\n",
    "    client.username_pw_set(username, password)\n",
    "    client.on_connect = on_connect\n",
    "    client.connect(broker, port)\n",
    "    return client\n",
    "\n",
    "def publish_shadow(client,m1,m2):\n",
    "    msg_dict = {\"data\": {'c1':m1,'c2':m2,'multiplication':0,'additive':0}}\n",
    "    msg = json.dumps(msg_dict)\n",
    "    result = client.publish(topic, msg,qos=0, retain=False)\n",
    "    \n",
    "def subscribe(client_id,username):\n",
    "    url = 'https://api.netpie.io/v2/device/shadow/data'\n",
    "    basicAuthCredentials = (client_id, username)\n",
    "    response = requests.get(url, auth=basicAuthCredentials)\n",
    "    print(response.json())\n",
    "    return response.json()\n",
    "\n",
    "def run_NETPIE(c1,c2):\n",
    "    client = connect_mqtt()\n",
    "    client.loop_start() # Start loop\n",
    "    publish_shadow(client,c1,c2) # publish data to @shadow/data/update\n",
    "    time.sleep(4)\n",
    "    client.loop_stop()\n",
    "    result = subscribe(client_id,username)\n",
    "    \n",
    "    return result"
   ]
  },
  {
   "cell_type": "code",
   "execution_count": 4,
   "id": "fe63a0fa",
   "metadata": {},
   "outputs": [],
   "source": [
    "mqtt_client_name = \"Privacy\"  # from NETPIE device\n",
    "client_id = \"4b2a7939-7f1f-45db-a15e-12b0542b0653\" # client-ID from NETPIE device\n",
    "username = \"8tsxE4P4hE1LCDS9rChQiH5pLeHUCAxf\" # Token from NETPIE device\n",
    "password = \"4kMH59#*lIDSAl6YMb)TVecA8DGh!1B2\" # secret from NETPIE device\n",
    "broker = \"broker.netpie.io\" # MQTT broker\n",
    "topic = \"@shadow/data/update\"\n",
    "topic_sub = \"@shadow/data/updated\"\n",
    "protocol = \"mqtt\"\n",
    "PUBLISH_PERIOD = 2000  # milliseconds\n",
    "port = 1883"
   ]
  },
  {
   "cell_type": "code",
   "execution_count": 5,
   "id": "e9d2d7e5",
   "metadata": {},
   "outputs": [
    {
     "name": "stdout",
     "output_type": "stream",
     "text": [
      "key: 15\n",
      "ciphertext c1: 44079590956 \n",
      " ciphertext c2: 19719069422\n",
      "Connected to NETPIE MQTT Broker!\n",
      "{'deviceid': '4b2a7939-7f1f-45db-a15e-12b0542b0653', 'data': {'additive': 63798660378, 'c1': 44079590956, 'c2': 19719069422, 'multiplication': 869208514154727300000}, 'rev': 11, 'modified': 1650908507570}\n",
      "m_netpie_add = 63798660378 \n",
      " c_netpie_mul = 869208514154727300000\n",
      "Result =  3\n",
      "Result =  0\n"
     ]
    }
   ],
   "source": [
    "m1 = 1\n",
    "m2 = 2\n",
    "noise = 2\n",
    "modulus = 4\n",
    "c1,c2,key = run_SHE(m1,m2,noise,modulus)\n",
    "result = run_NETPIE(c1,c2)\n",
    "## Get the encrypted results from NETPIE\n",
    "c_netpie_add = result[\"data\"][\"additive\"]\n",
    "c_netpie_mul =  result[\"data\"][\"multiplication\"]\n",
    "\n",
    "print(f\"m_netpie_add = {c_netpie_add} \\n c_netpie_mul = {c_netpie_mul}\")\n",
    "# Decrypt the results\n",
    "m_NETPIE_add = run_decSHE(key,modulus,c_netpie_add)\n",
    "m_NETPIE_mul = run_decSHE(key,modulus,c_netpie_mul)"
   ]
  },
  {
   "cell_type": "code",
   "execution_count": null,
   "id": "e1e8bbed",
   "metadata": {},
   "outputs": [],
   "source": []
  }
 ],
 "metadata": {
  "kernelspec": {
   "display_name": "Python 3 (ipykernel)",
   "language": "python",
   "name": "python3"
  },
  "language_info": {
   "codemirror_mode": {
    "name": "ipython",
    "version": 3
   },
   "file_extension": ".py",
   "mimetype": "text/x-python",
   "name": "python",
   "nbconvert_exporter": "python",
   "pygments_lexer": "ipython3",
   "version": "3.7.7"
  }
 },
 "nbformat": 4,
 "nbformat_minor": 5
}
