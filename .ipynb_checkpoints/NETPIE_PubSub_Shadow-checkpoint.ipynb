{
 "cells": [
  {
   "cell_type": "markdown",
   "id": "e32738de",
   "metadata": {},
   "source": [
    "## NETPIE PubSub\n",
    "\n"
   ]
  },
  {
   "cell_type": "code",
   "execution_count": 2,
   "id": "4e700e53",
   "metadata": {},
   "outputs": [
    {
     "name": "stdout",
     "output_type": "stream",
     "text": [
      "Collecting paho-mqtt\n",
      "  Downloading paho-mqtt-1.6.1.tar.gz (99 kB)\n",
      "\u001b[2K     \u001b[90m━━━━━━━━━━━━━━━━━━━━━━━━━━━━━━━━━━━━━━━━\u001b[0m \u001b[32m99.4/99.4 kB\u001b[0m \u001b[31m1.4 MB/s\u001b[0m eta \u001b[36m0:00:00\u001b[0ma \u001b[36m0:00:01\u001b[0m\n",
      "\u001b[?25h  Preparing metadata (setup.py) ... \u001b[?25ldone\n",
      "\u001b[?25hBuilding wheels for collected packages: paho-mqtt\n",
      "  Building wheel for paho-mqtt (setup.py) ... \u001b[?25ldone\n",
      "\u001b[?25h  Created wheel for paho-mqtt: filename=paho_mqtt-1.6.1-py3-none-any.whl size=62118 sha256=feba5e59deb868c2ed3cbf6daf08c01077eb9c5b056f5a95290bbfa20ed319f1\n",
      "  Stored in directory: /Users/nstda/Library/Caches/pip/wheels/0f/90/29/db29bb8ddc98ec5f2363b959130c9ddbcf5cfdb4a00b6184dd\n",
      "Successfully built paho-mqtt\n",
      "Installing collected packages: paho-mqtt\n",
      "Successfully installed paho-mqtt-1.6.1\n"
     ]
    }
   ],
   "source": [
    "!pip install paho-mqtt"
   ]
  },
  {
   "cell_type": "code",
   "execution_count": 3,
   "id": "7cd5528d",
   "metadata": {},
   "outputs": [],
   "source": [
    "import random \n",
    "import paho.mqtt.client as mqtt\n",
    "from paho.mqtt import client as mqtt_client\n",
    "import json\n",
    "import time\n",
    "import requests"
   ]
  },
  {
   "cell_type": "markdown",
   "id": "487befb0",
   "metadata": {},
   "source": [
    "## Function MQTT"
   ]
  },
  {
   "cell_type": "code",
   "execution_count": 4,
   "id": "1ba75c9c",
   "metadata": {},
   "outputs": [],
   "source": [
    "def connect_mqtt():\n",
    "    def on_connect(client, userdata, flags, rc):\n",
    "        if rc == 0:\n",
    "            print(\"Connected to NETPIE MQTT Broker!\")\n",
    "        else:\n",
    "            print(\"Failed to connect, return code %d\\n\", rc)\n",
    "    # Set Connecting Client ID\n",
    "    client = mqtt_client.Client(client_id)\n",
    "    client.username_pw_set(username, password)\n",
    "    client.on_connect = on_connect\n",
    "    client.connect(broker, port)\n",
    "    return client\n",
    "\n",
    "def publish_shadow(client,m1,m2):\n",
    "    msg_dict = {\"data\": {'c1':m1,'c2':m2,'multiplication':0,'additive':0}}\n",
    "    msg = json.dumps(msg_dict)\n",
    "    result = client.publish(topic, msg,qos=0, retain=False)\n",
    "    \n",
    "def subscribe(client_id,username):\n",
    "    url = 'https://api.netpie.io/v2/device/shadow/data'\n",
    "    basicAuthCredentials = (client_id, username)\n",
    "    response = requests.get(url, auth=basicAuthCredentials)\n",
    "    print(response.json())\n",
    "    return response.json()"
   ]
  },
  {
   "cell_type": "markdown",
   "id": "1cf49207",
   "metadata": {},
   "source": [
    "## NETPIE Device Credential"
   ]
  },
  {
   "cell_type": "code",
   "execution_count": null,
   "id": "09a8bcf6",
   "metadata": {},
   "outputs": [],
   "source": [
    "\n",
    "mqtt_client_name = \"Python\"  # from NETPIE device\n",
    "client_id = 'eec2e21b-4fe0-430c-95f3-af6d14762c65' # client-ID from NETPIE device\n",
    "username = \"KBxsr19UrkQB2UwmLdAd65w8mijn9emr\" # Token from NETPIE device\n",
    "password = \"KgTEoxQ~pF6W8dDE$WC5g!jlc#z10LPy\" # secret from NETPIE device\n",
    "broker = \"broker.netpie.io\" # MQTT broker\n",
    "topic = \"@shadow/data/update\"  # Publish to @shadow/data\n",
    "topic_sub = \"@shadow/data/updated\" #Subscribe from @shadow/data\n",
    "protocol = \"mqtt\"\n",
    "PUBLISH_PERIOD = 2000  # milliseconds\n",
    "port = 1883"
   ]
  }
 ],
 "metadata": {
  "kernelspec": {
   "display_name": "Python 3 (ipykernel)",
   "language": "python",
   "name": "python3"
  },
  "language_info": {
   "codemirror_mode": {
    "name": "ipython",
    "version": 3
   },
   "file_extension": ".py",
   "mimetype": "text/x-python",
   "name": "python",
   "nbconvert_exporter": "python",
   "pygments_lexer": "ipython3",
   "version": "3.9.13"
  }
 },
 "nbformat": 4,
 "nbformat_minor": 5
}
