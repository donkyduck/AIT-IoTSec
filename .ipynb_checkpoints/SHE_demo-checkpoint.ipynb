{
 "cells": [
  {
   "cell_type": "markdown",
   "id": "54d76037",
   "metadata": {},
   "source": [
    "## Somewhat Homomorphic Encryption\n",
    "- Reference: Computing Arbitrary Functions of Encrypted Data, Craig Gentry"
   ]
  },
  {
   "cell_type": "code",
   "execution_count": 1,
   "id": "8cdd3417",
   "metadata": {},
   "outputs": [],
   "source": [
    "import random \n",
    "import paho.mqtt.client as mqtt\n",
    "from paho.mqtt import client as mqtt_client\n",
    "import json\n",
    "import time\n",
    "import requests"
   ]
  },
  {
   "cell_type": "markdown",
   "id": "483b4989",
   "metadata": {},
   "source": [
    "## SHE Functions"
   ]
  },
  {
   "cell_type": "code",
   "execution_count": 2,
   "id": "fd84cc7f",
   "metadata": {},
   "outputs": [],
   "source": [
    "def keygen(noise, modulus):\n",
    "    a_key = random.getrandbits((noise ** 2))\n",
    " \n",
    "    while ((a_key % 2) != 1) and (a_key < (modulus ** (noise ** 2) - 1)):\n",
    "        a_key = a_key + 1\n",
    " \n",
    "    return a_key\n",
    "\n",
    "def encrypt(noise, a_key, a_bit, modulus):\n",
    "    a_mask          = random.getrandbits(noise)\n",
    "    a_bit_remainder = a_bit % modulus\n",
    " \n",
    "    while ((a_mask % modulus) != a_bit_remainder):\n",
    "        a_mask = random.getrandbits(noise)\n",
    " \n",
    "    return a_mask + (a_key * random.getrandbits(noise ** 5))\n",
    "\n",
    "def decrypt(a_key, a_bit, modulus):\n",
    "    return (a_bit % a_key) % mod"
   ]
  },
  {
   "cell_type": "code",
   "execution_count": 3,
   "id": "17f05bd6",
   "metadata": {},
   "outputs": [],
   "source": [
    "def run_encSHE(key,noise,modulus,m1,m2):\n",
    "    c1 = encrypt(noise, key, m1, modulus)\n",
    "    c2 = encrypt(noise, key, m2, modulus)\n",
    "    print(\"Ciphertext : \")\n",
    "    print('c1 =',c1)\n",
    "    print('c2 =', c2)\n",
    "    return c1,c2\n",
    "\n",
    "def run_decSHE(key,modulus,ciphertext_result):\n",
    "    result = decrypt(key, ciphertext_result, modulus)\n",
    "    print('Result = ',result)\n",
    "    return result"
   ]
  },
  {
   "cell_type": "code",
   "execution_count": 4,
   "id": "21708e55",
   "metadata": {},
   "outputs": [],
   "source": [
    "def run_SHE(m1,m2,noise,modulus):\n",
    "    key = keygen(noise, modulus)\n",
    "    print(\"key:\",key)\n",
    "    c1 = encrypt(noise, key, m1, modulus)\n",
    "    c2 = encrypt(noise, key, m2, modulus)\n",
    "    print(f\"ciphertext c1: {c1} \\n ciphertext c2: {c2}\")\n",
    "    return c1, c2, key"
   ]
  },
  {
   "cell_type": "markdown",
   "id": "4473e2b1",
   "metadata": {},
   "source": [
    "## Test Run"
   ]
  },
  {
   "cell_type": "code",
   "execution_count": 5,
   "id": "8e1fce57",
   "metadata": {},
   "outputs": [
    {
     "name": "stdout",
     "output_type": "stream",
     "text": [
      "key: 5\n",
      "ciphertext c1: 2110543956 \n",
      " ciphertext c2: 783325807\n"
     ]
    }
   ],
   "source": [
    "m1 = 1\n",
    "m2 = 2\n",
    "noise = 2\n",
    "modulus = 4\n",
    "c1,c2,key = run_SHE(m1,m2,noise,modulus)"
   ]
  },
  {
   "cell_type": "code",
   "execution_count": null,
   "id": "d4f046d8",
   "metadata": {},
   "outputs": [],
   "source": []
  }
 ],
 "metadata": {
  "kernelspec": {
   "display_name": "Python 3 (ipykernel)",
   "language": "python",
   "name": "python3"
  },
  "language_info": {
   "codemirror_mode": {
    "name": "ipython",
    "version": 3
   },
   "file_extension": ".py",
   "mimetype": "text/x-python",
   "name": "python",
   "nbconvert_exporter": "python",
   "pygments_lexer": "ipython3",
   "version": "3.7.7"
  }
 },
 "nbformat": 4,
 "nbformat_minor": 5
}
