{
 "cells": [
  {
   "cell_type": "code",
   "execution_count": 1,
   "id": "4f64caf5",
   "metadata": {},
   "outputs": [],
   "source": [
    "import random"
   ]
  },
  {
   "cell_type": "code",
   "execution_count": 2,
   "id": "cbd390a3",
   "metadata": {},
   "outputs": [],
   "source": [
    "Paper_ID_List = [2,3,4,5,6,7,8,9,10,12,13,14,15]"
   ]
  },
  {
   "cell_type": "code",
   "execution_count": 3,
   "id": "f3a69576",
   "metadata": {},
   "outputs": [],
   "source": [
    "def RandPaperID(Paper_ID_List):\n",
    "    ID = random.choice(Paper_ID_List)\n",
    "    print('Paper ID =',ID)\n",
    "    Paper_ID_List.remove(ID)\n",
    "    return Paper_ID_List\n",
    "    "
   ]
  },
  {
   "cell_type": "code",
   "execution_count": 15,
   "id": "a5c9c081",
   "metadata": {},
   "outputs": [
    {
     "name": "stdout",
     "output_type": "stream",
     "text": [
      "Paper ID = 12\n"
     ]
    },
    {
     "data": {
      "text/plain": [
       "[4]"
      ]
     },
     "execution_count": 15,
     "metadata": {},
     "output_type": "execute_result"
    }
   ],
   "source": [
    "RandPaperID(Paper_ID_List)"
   ]
  },
  {
   "cell_type": "code",
   "execution_count": null,
   "id": "70701888",
   "metadata": {},
   "outputs": [],
   "source": []
  },
  {
   "cell_type": "code",
   "execution_count": null,
   "id": "d0f50bc6",
   "metadata": {},
   "outputs": [],
   "source": []
  }
 ],
 "metadata": {
  "kernelspec": {
   "display_name": "Python 3 (ipykernel)",
   "language": "python",
   "name": "python3"
  },
  "language_info": {
   "codemirror_mode": {
    "name": "ipython",
    "version": 3
   },
   "file_extension": ".py",
   "mimetype": "text/x-python",
   "name": "python",
   "nbconvert_exporter": "python",
   "pygments_lexer": "ipython3",
   "version": "3.9.13"
  }
 },
 "nbformat": 4,
 "nbformat_minor": 5
}
