{
 "cells": [
  {
   "cell_type": "markdown",
   "id": "a3d07a52",
   "metadata": {},
   "source": [
    "# Diffie-Hellman Key Exchange"
   ]
  },
  {
   "cell_type": "code",
   "execution_count": 1,
   "id": "5939b06a",
   "metadata": {},
   "outputs": [],
   "source": [
    "import math\n",
    "import random\n",
    "from math import sqrt"
   ]
  },
  {
   "cell_type": "code",
   "execution_count": 2,
   "id": "a040d025",
   "metadata": {},
   "outputs": [],
   "source": [
    "def power(x, y, p):\n",
    " \n",
    "    res = 1 # Initialize result\n",
    " \n",
    "    x = x % p # Update x if it is more\n",
    "              # than or equal to p\n",
    " \n",
    "    while (y > 0):\n",
    " \n",
    "        # If y is odd, multiply x with result\n",
    "        if (y & 1):\n",
    "            res = (res * x) % p\n",
    " \n",
    "        # y must be even now\n",
    "        y = y >> 1 # y = y/2\n",
    "        x = (x * x) % p\n",
    " \n",
    "    return res"
   ]
  },
  {
   "cell_type": "code",
   "execution_count": 3,
   "id": "6fde11b1",
   "metadata": {},
   "outputs": [],
   "source": [
    "def isPrime(n):\n",
    " \n",
    "  \n",
    "    if (n <= 1):\n",
    "        return False\n",
    "    if (n <= 3):\n",
    "        return True\n",
    " \n",
    "    if (n % 2 == 0 or n % 3 == 0):\n",
    "        return False\n",
    "    i = 5\n",
    "    while(i * i <= n):\n",
    "        if (n % i == 0 or n % (i + 2) == 0) :\n",
    "            return False\n",
    "        i = i + 6\n",
    " \n",
    "    return True"
   ]
  },
  {
   "cell_type": "code",
   "execution_count": 4,
   "id": "5dd5187f",
   "metadata": {},
   "outputs": [],
   "source": [
    "def FindPrime(s,t):\n",
    "    \"\"\"\n",
    "    s , t are abitary numbers\n",
    "    \"\"\"\n",
    "    primes = [i for i in range(s,t) if isPrime(i)]\n",
    "    n = random.choice(primes)\n",
    "    return n, primes"
   ]
  },
  {
   "cell_type": "code",
   "execution_count": 5,
   "id": "86da51f7",
   "metadata": {},
   "outputs": [],
   "source": [
    "def findPrimefactors(s, n) :\n",
    " \n",
    "    # Print the number of 2s that divide n\n",
    "    while (n % 2 == 0) :\n",
    "        s.add(2)\n",
    "        n = n // 2\n",
    " \n",
    "    # n must be odd at this po. So we can \n",
    "    # skip one element (Note i = i +2)\n",
    "    for i in range(3, int(sqrt(n)), 2):\n",
    "         \n",
    "        # While i divides n, print i and divide n\n",
    "        while (n % i == 0) :\n",
    " \n",
    "            s.add(i)\n",
    "            n = n // i\n",
    "         \n",
    "    # This condition is to handle the case\n",
    "    # when n is a prime number greater than 2\n",
    "    if (n > 2) :\n",
    "        s.add(n)"
   ]
  },
  {
   "cell_type": "code",
   "execution_count": 6,
   "id": "c3578d6c",
   "metadata": {},
   "outputs": [],
   "source": [
    "def findPrimitive(n) :\n",
    "    s = set()\n",
    " \n",
    "    # Check if n is prime or not\n",
    "    if (isPrime(n) == False):\n",
    "        return -1\n",
    " \n",
    "    # Find value of Euler Totient function\n",
    "    # of n. Since n is a prime number, the\n",
    "    # value of Euler Totient function is n-1\n",
    "    # as there are n-1 relatively prime numbers.\n",
    "    phi = n - 1\n",
    " \n",
    "    # Find prime factors of phi and store in a set\n",
    "    findPrimefactors(s, phi)\n",
    " \n",
    "    # Check for every number from 2 to phi\n",
    "    for r in range(2, phi + 1):\n",
    " \n",
    "        # Iterate through all prime factors of phi.\n",
    "        # and check if we found a power with value 1\n",
    "        flag = False\n",
    "        for it in s:\n",
    " \n",
    "            # Check if r^((phi)/primefactors)\n",
    "            # mod n is 1 or not\n",
    "            if (power(r, phi // it, n) == 1):\n",
    " \n",
    "                flag = True\n",
    "                break\n",
    "             \n",
    "        # If there was no power with value 1.\n",
    "        if (flag == False):\n",
    "            return r\n",
    " \n",
    "    # If no primitive root found\n",
    "    return -1"
   ]
  },
  {
   "cell_type": "markdown",
   "id": "0801a947",
   "metadata": {},
   "source": [
    "## The smallest primitive root"
   ]
  },
  {
   "cell_type": "code",
   "execution_count": 17,
   "id": "c95978af",
   "metadata": {},
   "outputs": [
    {
     "name": "stdout",
     "output_type": "stream",
     "text": [
      "the smallest primitive root of n: [3, 2, 6, 6]\n"
     ]
    }
   ],
   "source": [
    "n = [17,29,271,151]\n",
    "z = [] ## primitive root of n\n",
    "for i in n :\n",
    "    \n",
    "   z.append(findPrimitive(i))\n",
    "print(\"the smallest primitive root of n:\", z)"
   ]
  },
  {
   "cell_type": "markdown",
   "id": "8ec33f07",
   "metadata": {},
   "source": [
    "## Diffie-Hellman Key Exchange"
   ]
  },
  {
   "cell_type": "code",
   "execution_count": 18,
   "id": "d6260513",
   "metadata": {},
   "outputs": [
    {
     "name": "stdout",
     "output_type": "stream",
     "text": [
      "prime number 53\n",
      "alpha = 2\n",
      "Alice's private key: 2\n",
      "Alice's public key 4\n",
      "Bob's private key: 3\n",
      "Bob's public key 8\n",
      "shared Key to Alice 11\n",
      "shared Key to Alice 11\n"
     ]
    }
   ],
   "source": [
    "## Diffie-Hellman\n",
    "## Alice defined a prime number 53, and fine a primitive root of prime alpha\n",
    "p = 53\n",
    "print(\"prime number\",p)\n",
    "alpha = findPrimitive(p)\n",
    "print(\"alpha =\", alpha)\n",
    "# Alice randomly selects a secrete key X_a = 2, where X_a < p\n",
    "X_a = 2\n",
    "print(\"Alice's private key:\", X_a)\n",
    "Y_a = pow(alpha,X_a)%p\n",
    "print(\"Alice's public key\",Y_a)\n",
    "# Bob randomly selects a secrete key X_b = 5, where X_b < p\n",
    "X_b = 3\n",
    "print(\"Bob's private key:\", X_b)\n",
    "Y_b = pow(alpha,X_b)%p\n",
    "print(\"Bob's public key\",Y_b)\n",
    "\n",
    "## Shared Key\n",
    "K_a = pow(Y_b,X_a)%p\n",
    "print(\"shared Key to Alice\",K_a)\n",
    "\n",
    "K_b = pow(Y_a,X_b)%p\n",
    "print(\"shared Key to Alice\",K_b)"
   ]
  },
  {
   "cell_type": "code",
   "execution_count": null,
   "id": "473f9363",
   "metadata": {},
   "outputs": [],
   "source": []
  }
 ],
 "metadata": {
  "kernelspec": {
   "display_name": "Python 3 (ipykernel)",
   "language": "python",
   "name": "python3"
  },
  "language_info": {
   "codemirror_mode": {
    "name": "ipython",
    "version": 3
   },
   "file_extension": ".py",
   "mimetype": "text/x-python",
   "name": "python",
   "nbconvert_exporter": "python",
   "pygments_lexer": "ipython3",
   "version": "3.7.7"
  }
 },
 "nbformat": 4,
 "nbformat_minor": 5
}
