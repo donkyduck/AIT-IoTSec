{
 "cells": [
  {
   "cell_type": "code",
   "execution_count": 1,
   "id": "9fbdb7cf",
   "metadata": {},
   "outputs": [],
   "source": [
    "import random \n",
    "import paho.mqtt.client as mqtt\n",
    "from paho.mqtt import client as mqtt_client\n",
    "import json\n",
    "import time\n",
    "import requests"
   ]
  },
  {
   "cell_type": "code",
   "execution_count": 2,
   "id": "27bd0cef",
   "metadata": {},
   "outputs": [],
   "source": [
    "def connect_mqtt():\n",
    "    def on_connect(client, userdata, flags, rc):\n",
    "        if rc == 0:\n",
    "            print(\"Connected to NETPIE MQTT Broker!\")\n",
    "        else:\n",
    "            print(\"Failed to connect, return code %d\\n\", rc)\n",
    "    # Set Connecting Client ID\n",
    "    client = mqtt_client.Client(client_id)\n",
    "    client.username_pw_set(username, password)\n",
    "    client.on_connect = on_connect\n",
    "    client.connect(broker, port)\n",
    "    return client\n",
    "\n",
    "def publish_shadow(client,m1,m2):\n",
    "    msg_dict = {\"data\": {'c1':m1,'c2':m2,'multiplication':0,'additive':0}}\n",
    "    msg = json.dumps(msg_dict)\n",
    "    result = client.publish(topic, msg,qos=0, retain=False)\n",
    "    \n",
    "def subscribe(client_id,username):\n",
    "    url = 'https://api.netpie.io/v2/device/shadow/data'\n",
    "    basicAuthCredentials = (client_id, username)\n",
    "    response = requests.get(url, auth=basicAuthCredentials)\n",
    "    print(response.json())\n",
    "    return response.json()"
   ]
  },
  {
   "cell_type": "code",
   "execution_count": 3,
   "id": "0f6175be",
   "metadata": {},
   "outputs": [],
   "source": [
    "mqtt_client_name = \"Privacy\"  # from NETPIE device\n",
    "client_id = \"4b2a7939-7f1f-45db-a15e-12b0542b0653\" # client-ID from NETPIE device\n",
    "username = \"8tsxE4P4hE1LCDS9rChQiH5pLeHUCAxf\" # Token from NETPIE device\n",
    "password = \"4kMH59#*lIDSAl6YMb)TVecA8DGh!1B2\" # secret from NETPIE device\n",
    "broker = \"broker.netpie.io\" # MQTT broker\n",
    "topic = \"@shadow/data/update\"\n",
    "topic_sub = \"@shadow/data/updated\"\n",
    "protocol = \"mqtt\"\n",
    "PUBLISH_PERIOD = 2000  # milliseconds\n",
    "port = 1883"
   ]
  },
  {
   "cell_type": "code",
   "execution_count": 4,
   "id": "a85fd08a",
   "metadata": {},
   "outputs": [],
   "source": [
    "def run_NETPIE(c1,c2):\n",
    "    client = connect_mqtt()\n",
    "    client.loop_start() # Start loop\n",
    "    publish_shadow(client,c1,c2) # publish data to @shadow/data/update\n",
    "    time.sleep(4)\n",
    "    client.loop_stop()\n",
    "    result = subscribe(client_id,username)\n",
    "    \n",
    "    return result"
   ]
  },
  {
   "cell_type": "markdown",
   "id": "3fc4525f",
   "metadata": {},
   "source": [
    "## Test RUN NETPIE"
   ]
  },
  {
   "cell_type": "code",
   "execution_count": 10,
   "id": "3352c4a6",
   "metadata": {},
   "outputs": [
    {
     "name": "stdout",
     "output_type": "stream",
     "text": [
      "Connected to NETPIE MQTT Broker!\n",
      "{'deviceid': '4b2a7939-7f1f-45db-a15e-12b0542b0653', 'data': {'additive': 3, 'c1': 1, 'c2': 2, 'multiplication': 2}, 'rev': 9, 'modified': 1650900818356}\n"
     ]
    }
   ],
   "source": [
    "c1 = 1\n",
    "c2 = 2\n",
    "result = run_NETPIE(c1,c2)"
   ]
  },
  {
   "cell_type": "code",
   "execution_count": null,
   "id": "ddc03a10",
   "metadata": {},
   "outputs": [],
   "source": []
  }
 ],
 "metadata": {
  "kernelspec": {
   "display_name": "Python 3 (ipykernel)",
   "language": "python",
   "name": "python3"
  },
  "language_info": {
   "codemirror_mode": {
    "name": "ipython",
    "version": 3
   },
   "file_extension": ".py",
   "mimetype": "text/x-python",
   "name": "python",
   "nbconvert_exporter": "python",
   "pygments_lexer": "ipython3",
   "version": "3.9.13"
  }
 },
 "nbformat": 4,
 "nbformat_minor": 5
}
