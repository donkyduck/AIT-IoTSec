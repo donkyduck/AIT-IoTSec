{
 "cells": [
  {
   "cell_type": "markdown",
   "id": "dc63c942",
   "metadata": {},
   "source": [
    "## Multi-Party-Computation Scheme\n",
    "- User $i = 1,2, 3$\n",
    "- User $i$ randomly selects the number $r_j$ in R for $j \\neq i$\n",
    "- User $i$ devides the amount of his data to the following equations: $\\sum_j m_{i,j}(t) = m_i(t)$\n",
    "- The national dashboard will receive the data at time $t$ from user $i$ for all $i =1,2,3$ equal to $\\sum_i\\sum_j m_{i,j}(t) = \\sum_i m_i(t)$ "
   ]
  },
  {
   "cell_type": "code",
   "execution_count": 1,
   "id": "a7748169",
   "metadata": {},
   "outputs": [],
   "source": [
    "import random\n",
    "import paho.mqtt.client as mqtt\n",
    "from paho.mqtt import client as mqtt_client\n",
    "import json\n",
    "import time\n",
    "import requests"
   ]
  },
  {
   "cell_type": "markdown",
   "id": "2e7e3e95",
   "metadata": {},
   "source": [
    "## Give the data of manufacturing\n",
    "- from t0 to t8"
   ]
  },
  {
   "cell_type": "code",
   "execution_count": 2,
   "id": "f5a0c934",
   "metadata": {},
   "outputs": [],
   "source": [
    "M1 = [400, 450, 500, 550, 500, 550, 400, 300, 250]\n",
    "M2 = [300, 300, 400, 450, 500, 450, 400, 400, 300]\n",
    "M3 = [200, 200, 500, 500, 300, 300, 300, 200, 200]"
   ]
  },
  {
   "cell_type": "markdown",
   "id": "7c368ea7",
   "metadata": {},
   "source": [
    "### Devide the data of user $i$ into 2 data for user $j$ and $k$"
   ]
  },
  {
   "cell_type": "code",
   "execution_count": 3,
   "id": "7d6c4245",
   "metadata": {},
   "outputs": [],
   "source": [
    "m_1_2 = []\n",
    "m_1_3 = []\n",
    "m_2_1 = []\n",
    "m_2_3 = []\n",
    "m_3_2 = []\n",
    "m_3_1 = []\n",
    "\n",
    "M_1_n = []\n",
    "M_2_n = []\n",
    "M_3_n = []\n",
    "\n",
    "for i in range(0,9):\n",
    "    \n",
    "    r1 = random.randint(1,300)\n",
    "    r2 = random.randint(1,300)\n",
    "    r3 = random.randint(1,300)## select lower bound and upper bound\n",
    "    \n",
    "    m_1_2.append(r1)  \n",
    "    m_1_3.append(M1[i] - r1)\n",
    "    \n",
    "    m_2_1.append(r2)  \n",
    "    m_2_3.append(M2[i] - r2)\n",
    "    \n",
    "    m_3_1.append(r3)  \n",
    "    m_3_2.append(M3[i] - r3)\n",
    "    \n",
    "    M_1_n.append(m_2_1[i] + m_3_1[i])\n",
    "    M_2_n.append(m_1_2[i] + m_3_2[i])\n",
    "    M_3_n.append(m_1_3[i] + m_2_3[i])\n",
    "\n"
   ]
  },
  {
   "cell_type": "code",
   "execution_count": 4,
   "id": "eb26d0f0",
   "metadata": {},
   "outputs": [
    {
     "name": "stdout",
     "output_type": "stream",
     "text": [
      "M1 will receive the data from M2 and M3 and will send them to the national dashboard as: [39, 127, 181, 435, 277, 180, 247, 415, 128]\n"
     ]
    }
   ],
   "source": [
    "print(\"M1 will receive the data from M2 and M3 and will send them to the national dashboard as:\",M_1_n )\n",
    "\n"
   ]
  },
  {
   "cell_type": "code",
   "execution_count": 5,
   "id": "80377bb0",
   "metadata": {},
   "outputs": [
    {
     "name": "stdout",
     "output_type": "stream",
     "text": [
      "M2 will receive the data from M1 and M3 and will send them to the national dashboard as: [240, 145, 453, 417, 154, 399, 288, -7, 410]\n"
     ]
    }
   ],
   "source": [
    "print(\"M2 will receive the data from M1 and M3 and will send them to the national dashboard as:\",M_2_n)\n"
   ]
  },
  {
   "cell_type": "code",
   "execution_count": 6,
   "id": "5f3fb36e",
   "metadata": {},
   "outputs": [
    {
     "name": "stdout",
     "output_type": "stream",
     "text": [
      "M3 will receive the data from M1 and M2 and will send them to the national dashboard as: [621, 678, 766, 648, 869, 721, 565, 492, 212]\n"
     ]
    }
   ],
   "source": [
    "print(\"M3 will receive the data from M1 and M2 and will send them to the national dashboard as:\",M_3_n)\n"
   ]
  },
  {
   "cell_type": "markdown",
   "id": "2e08c62a",
   "metadata": {},
   "source": [
    "## Send Data to National Dashboard with NETPIE\n",
    "- Define parameters to keep the data in NETPIE shadow\n",
    "- M_1_n : the data that M1 sends to the NETPIE\n",
    "- M_2_n : the data that M2 sends to the NETPIE\n",
    "- M_3_n : the data that M3 sends to the NETPIE\n",
    "- avg : the average value of all data at time t = $\\sum_{i=1}^3 M_{i,n}(t)/3$  "
   ]
  },
  {
   "cell_type": "code",
   "execution_count": 7,
   "id": "61c2309d",
   "metadata": {},
   "outputs": [],
   "source": [
    "## NETPIE device info\n",
    "mqtt_client_name = \"MPC\"  # from NETPIE device\n",
    "client_id = \"d3297798-2b13-4179-91a0-4144e6189ed5\" # client-ID from NETPIE device\n",
    "username = \"JeqTYLhaF9P5v5c5r34XSr5kD9mWLpjR\" # Token from NETPIE device\n",
    "password = \"~E(CIP1nrvvFc2zp3q54f*SlWdHjrwz6\" # secret from NETPIE device\n",
    "broker = \"broker.netpie.io\" # MQTT broker\n",
    "topic = \"@shadow/data/update\"\n",
    "protocol = \"mqtt\"\n",
    "PUBLISH_PERIOD = 2000  # milliseconds\n",
    "port = 1883"
   ]
  },
  {
   "cell_type": "code",
   "execution_count": 8,
   "id": "b4863378",
   "metadata": {},
   "outputs": [],
   "source": [
    "def connect_mqtt():\n",
    "    def on_connect(client, userdata, flags, rc):\n",
    "        if rc == 0:\n",
    "            print(\"Connected to NETPIE MQTT Broker!\")\n",
    "        else:\n",
    "            print(\"Failed to connect, return code %d\\n\", rc)\n",
    "    # Set Connecting Client ID\n",
    "    client = mqtt_client.Client(client_id)\n",
    "    client.username_pw_set(username, password)\n",
    "    client.on_connect = on_connect\n",
    "    client.connect(broker, port)\n",
    "    return client\n",
    "\n",
    "def publish_shadow(client,c1,c2,c3):\n",
    "    msg_dict = {\"data\": {'m1':c1,'m2':c2,'m3':c3,'avg':0}}\n",
    "    msg = json.dumps(msg_dict)\n",
    "    result = client.publish(topic, msg,qos=0, retain=False)\n",
    "    \n",
    "def subscribe(client_id,username):\n",
    "    url = 'https://api.netpie.io/v2/device/shadow/data'\n",
    "    basicAuthCredentials = (client_id, username)\n",
    "    response = requests.get(url, auth=basicAuthCredentials)\n",
    "    print(response.json())\n",
    "    return response.json()"
   ]
  },
  {
   "cell_type": "code",
   "execution_count": 9,
   "id": "1fc91cb6",
   "metadata": {},
   "outputs": [],
   "source": [
    "## Run NETPIE function\n",
    "def run_NETPIE(c1,c2,c3):\n",
    "    client = connect_mqtt()\n",
    "    client.loop_start() # Start loop\n",
    "    publish_shadow(client,c1,c2,c3) # publish data to @shadow/data/update\n",
    "    time.sleep(2)\n",
    "    client.loop_stop()\n",
    "    result = subscribe(client_id,username)\n",
    "    \n",
    "    return result"
   ]
  },
  {
   "cell_type": "markdown",
   "id": "b955963c",
   "metadata": {},
   "source": [
    "## Test Send DATA to NETPIE"
   ]
  },
  {
   "cell_type": "code",
   "execution_count": 10,
   "id": "d55e8a51",
   "metadata": {},
   "outputs": [
    {
     "name": "stdout",
     "output_type": "stream",
     "text": [
      "0\n",
      "39 240 621\n",
      "Connected to NETPIE MQTT Broker!\n",
      "{'deviceid': 'd3297798-2b13-4179-91a0-4144e6189ed5', 'data': {'avg': 300, 'm1': 39, 'm2': 240, 'm3': 621}, 'rev': 39, 'modified': 1651866663520}\n",
      "1\n",
      "127 145 678\n",
      "Connected to NETPIE MQTT Broker!\n",
      "{'deviceid': 'd3297798-2b13-4179-91a0-4144e6189ed5', 'data': {'avg': 316.6666666666667, 'm1': 127, 'm2': 145, 'm3': 678}, 'rev': 40, 'modified': 1651866670178}\n",
      "2\n",
      "181 453 766\n",
      "Connected to NETPIE MQTT Broker!\n",
      "{'deviceid': 'd3297798-2b13-4179-91a0-4144e6189ed5', 'data': {'avg': 466.6666666666667, 'm1': 181, 'm2': 453, 'm3': 766}, 'rev': 41, 'modified': 1651866676451}\n",
      "3\n",
      "435 417 648\n",
      "Connected to NETPIE MQTT Broker!\n",
      "{'deviceid': 'd3297798-2b13-4179-91a0-4144e6189ed5', 'data': {'avg': 500, 'm1': 435, 'm2': 417, 'm3': 648}, 'rev': 42, 'modified': 1651866682853}\n",
      "4\n",
      "277 154 869\n",
      "Connected to NETPIE MQTT Broker!\n",
      "{'deviceid': 'd3297798-2b13-4179-91a0-4144e6189ed5', 'data': {'avg': 433.3333333333333, 'm1': 277, 'm2': 154, 'm3': 869}, 'rev': 43, 'modified': 1651866689148}\n",
      "5\n",
      "180 399 721\n",
      "Connected to NETPIE MQTT Broker!\n",
      "{'deviceid': 'd3297798-2b13-4179-91a0-4144e6189ed5', 'data': {'avg': 433.3333333333333, 'm1': 180, 'm2': 399, 'm3': 721}, 'rev': 44, 'modified': 1651866695435}\n",
      "6\n",
      "247 288 565\n",
      "Connected to NETPIE MQTT Broker!\n",
      "{'deviceid': 'd3297798-2b13-4179-91a0-4144e6189ed5', 'data': {'avg': 366.6666666666667, 'm1': 247, 'm2': 288, 'm3': 565}, 'rev': 45, 'modified': 1651866701863}\n",
      "7\n",
      "415 -7 492\n",
      "Connected to NETPIE MQTT Broker!\n",
      "{'deviceid': 'd3297798-2b13-4179-91a0-4144e6189ed5', 'data': {'avg': 300, 'm1': 415, 'm2': -7, 'm3': 492}, 'rev': 46, 'modified': 1651866708406}\n",
      "8\n",
      "128 410 212\n",
      "Connected to NETPIE MQTT Broker!\n",
      "{'deviceid': 'd3297798-2b13-4179-91a0-4144e6189ed5', 'data': {'avg': 250, 'm1': 128, 'm2': 410, 'm3': 212}, 'rev': 47, 'modified': 1651866714751}\n"
     ]
    }
   ],
   "source": [
    "for i in range(0,9):\n",
    "    print(i)\n",
    "    print(M_1_n[i],M_2_n[i],M_3_n[i])\n",
    "    m1 = M_1_n[i]\n",
    "    m2 = M_2_n[i]\n",
    "    m3 = M_3_n[i]\n",
    "    result = run_NETPIE(m1,m2,m3)\n",
    "    time.sleep(4)\n"
   ]
  },
  {
   "cell_type": "code",
   "execution_count": null,
   "id": "623aa4bb",
   "metadata": {},
   "outputs": [],
   "source": []
  },
  {
   "cell_type": "code",
   "execution_count": null,
   "id": "b773694d",
   "metadata": {},
   "outputs": [],
   "source": []
  }
 ],
 "metadata": {
  "kernelspec": {
   "display_name": "Python 3 (ipykernel)",
   "language": "python",
   "name": "python3"
  },
  "language_info": {
   "codemirror_mode": {
    "name": "ipython",
    "version": 3
   },
   "file_extension": ".py",
   "mimetype": "text/x-python",
   "name": "python",
   "nbconvert_exporter": "python",
   "pygments_lexer": "ipython3",
   "version": "3.7.7"
  }
 },
 "nbformat": 4,
 "nbformat_minor": 5
}
